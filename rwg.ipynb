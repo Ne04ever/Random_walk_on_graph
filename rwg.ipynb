{
 "cells": [
  {
   "cell_type": "code",
   "execution_count": 1,
   "id": "59195997",
   "metadata": {},
   "outputs": [],
   "source": [
    "#importing libraries\n",
    "import numpy as np"
   ]
  },
  {
   "cell_type": "markdown",
   "id": "221d2049",
   "metadata": {},
   "source": [
    "### Complete graph"
   ]
  },
  {
   "cell_type": "code",
   "execution_count": 2,
   "id": "51459f63",
   "metadata": {},
   "outputs": [],
   "source": [
    "#Creating a function to generate a complete graph\n",
    "def complete_graph(n):\n",
    "    matrix = np.ones((n,n))\n",
    "    np.fill_diagonal(matrix,0)\n",
    "    \n",
    "    #connected neighbours\n",
    "    degree=matrix.sum(1)\n",
    "    \n",
    "    # creating transition matrix\n",
    "    transition_mtx = np.zeros((n,n))\n",
    "    for i in range(n):\n",
    "        for j in range(n):\n",
    "            if matrix[i][j]==1:\n",
    "                transition_mtx[i][j]=1/degree[i]\n",
    "            else:\n",
    "                transition_mtx[i][j]=0\n",
    "                \n",
    "    return transition_mtx\n"
   ]
  },
  {
   "cell_type": "code",
   "execution_count": 3,
   "id": "05cf8f68",
   "metadata": {},
   "outputs": [],
   "source": [
    "#Checking\n",
    "transition_G = complete_graph(6) "
   ]
  },
  {
   "cell_type": "code",
   "execution_count": 4,
   "id": "690ecb7e",
   "metadata": {},
   "outputs": [
    {
     "data": {
      "text/plain": [
       "array([[0. , 0.2, 0.2, 0.2, 0.2, 0.2],\n",
       "       [0.2, 0. , 0.2, 0.2, 0.2, 0.2],\n",
       "       [0.2, 0.2, 0. , 0.2, 0.2, 0.2],\n",
       "       [0.2, 0.2, 0.2, 0. , 0.2, 0.2],\n",
       "       [0.2, 0.2, 0.2, 0.2, 0. , 0.2],\n",
       "       [0.2, 0.2, 0.2, 0.2, 0.2, 0. ]])"
      ]
     },
     "execution_count": 4,
     "metadata": {},
     "output_type": "execute_result"
    }
   ],
   "source": [
    "transition_G"
   ]
  },
  {
   "cell_type": "markdown",
   "id": "6a9db46c",
   "metadata": {},
   "source": [
    "### Joined Graphs"
   ]
  },
  {
   "cell_type": "code",
   "execution_count": 22,
   "id": "357fc41a",
   "metadata": {},
   "outputs": [],
   "source": [
    "def joined_graphs(n):\n",
    "    if n%2==0:\n",
    "        matrix = np.zeros((n,n))\n",
    "        for i in range(0,n//2):\n",
    "            for j in range(0,n//2):\n",
    "                matrix[i][j]=1\n",
    "        for p in range(n//2,n):\n",
    "            for q in range(n//2,n):\n",
    "                matrix[p][q]=1\n",
    "        np.fill_diagonal(matrix,0)\n",
    "        \n",
    "        #connecting 2 graphs\n",
    "        g1 = np.random.randint(0,n/2)\n",
    "        g2 = np.random.randint(n/2,n)\n",
    "        bottleneck = [g1,g2]\n",
    "        matrix[g1][g2]=1\n",
    "        matrix[g2][g1]=1\n",
    "\n",
    "    # creating transition matrix\n",
    "        degree=matrix.sum(1)\n",
    "        transition_mtx = np.zeros((n,n))\n",
    "        for x in range(n):\n",
    "            for y in range(n):\n",
    "                if matrix[x][y]==1:\n",
    "                    transition_mtx[x][y]=1/degree[x]\n",
    "                else:\n",
    "                    transition_mtx[x][y]=0\n",
    "        #print('bottleneck is',bottleneck)\n",
    "        return transition_mtx\n",
    "    else:\n",
    "        print('Choose even number')"
   ]
  },
  {
   "cell_type": "code",
   "execution_count": 23,
   "id": "1d23e97c",
   "metadata": {},
   "outputs": [
    {
     "data": {
      "text/plain": [
       "array([[0. , 0.5, 0. , 0.5],\n",
       "       [1. , 0. , 0. , 0. ],\n",
       "       [0. , 0. , 0. , 1. ],\n",
       "       [0.5, 0. , 0.5, 0. ]])"
      ]
     },
     "execution_count": 23,
     "metadata": {},
     "output_type": "execute_result"
    }
   ],
   "source": [
    "#Checking\n",
    "transition_halfG = joined_graphs(4)\n",
    "transition_halfG"
   ]
  },
  {
   "cell_type": "markdown",
   "id": "cc9a4435",
   "metadata": {},
   "source": [
    "### first jump"
   ]
  },
  {
   "cell_type": "code",
   "execution_count": 24,
   "id": "9faade1c",
   "metadata": {},
   "outputs": [],
   "source": [
    "#creating function for the first jump\n",
    "def first_jump(trans_matrix,start):\n",
    "    state = trans_matrix[start,:]\n",
    "    U = np.random.uniform()\n",
    "    lower_bound = 0\n",
    "    for i in range(len(state)):\n",
    "        lower_bound += state[i]\n",
    "        if U <= lower_bound:\n",
    "            return i"
   ]
  },
  {
   "cell_type": "code",
   "execution_count": 25,
   "id": "879b0ec6",
   "metadata": {},
   "outputs": [
    {
     "data": {
      "text/plain": [
       "2"
      ]
     },
     "execution_count": 25,
     "metadata": {},
     "output_type": "execute_result"
    }
   ],
   "source": [
    "#checking full graph\n",
    "first_jump(transition_G,4)"
   ]
  },
  {
   "cell_type": "markdown",
   "id": "8091e396",
   "metadata": {},
   "source": [
    "### Total jumps\n"
   ]
  },
  {
   "cell_type": "code",
   "execution_count": 26,
   "id": "7bf24a9c",
   "metadata": {},
   "outputs": [],
   "source": [
    "def get_walk(trans_matrix,start):\n",
    "    \n",
    "    vertices = len(trans_matrix)   \n",
    "    \n",
    "    walks = [start]\n",
    "    uniq_walk = {start}\n",
    "    \n",
    "    while len(uniq_walk) < vertices:\n",
    "        st = walks[-1]\n",
    "        w = first_jump(trans_matrix,st)\n",
    "        walks.append(w)\n",
    "        uniq_walk.add(w)\n",
    "    total_jump = len(walks)\n",
    "    return total_jump   "
   ]
  },
  {
   "cell_type": "code",
   "execution_count": 27,
   "id": "b9447c18",
   "metadata": {},
   "outputs": [
    {
     "data": {
      "text/plain": [
       "9"
      ]
     },
     "execution_count": 27,
     "metadata": {},
     "output_type": "execute_result"
    }
   ],
   "source": [
    "#checking complete graph\n",
    "total_walks_full = get_walk(transition_G,0)\n",
    "total_walks_full"
   ]
  },
  {
   "cell_type": "code",
   "execution_count": 28,
   "id": "e9fca4e8",
   "metadata": {},
   "outputs": [
    {
     "data": {
      "text/plain": [
       "5"
      ]
     },
     "execution_count": 28,
     "metadata": {},
     "output_type": "execute_result"
    }
   ],
   "source": [
    "#checking half graph\n",
    "total_walks_joined = get_walk(transition_halfG,0)\n",
    "total_walks_joined"
   ]
  },
  {
   "cell_type": "markdown",
   "id": "282bcc01",
   "metadata": {},
   "source": [
    "### Expected cover time"
   ]
  },
  {
   "cell_type": "code",
   "execution_count": 29,
   "id": "055615f1",
   "metadata": {},
   "outputs": [],
   "source": [
    "def Exp_cover_time(trans_matrix,start,M):\n",
    "    m=0\n",
    "    for i in range(M):\n",
    "        m+= get_walk(trans_matrix,start) \n",
    "        avg = m/M\n",
    "    return avg"
   ]
  },
  {
   "cell_type": "code",
   "execution_count": 30,
   "id": "43497438",
   "metadata": {},
   "outputs": [
    {
     "data": {
      "text/plain": [
       "12.473"
      ]
     },
     "execution_count": 30,
     "metadata": {},
     "output_type": "execute_result"
    }
   ],
   "source": [
    "#checking\n",
    "Exp_cover_time(transition_G,1,1000)"
   ]
  },
  {
   "cell_type": "markdown",
   "id": "4b7f05f2",
   "metadata": {},
   "source": [
    "## Questions\n",
    "\n",
    "#### 1) Consider a complete graph and analyse how the expected cover time depends on the number of vertices"
   ]
  },
  {
   "cell_type": "code",
   "execution_count": 31,
   "id": "670c6baf",
   "metadata": {},
   "outputs": [],
   "source": [
    "transition_matrix1 = complete_graph(25)\n",
    "transition_matrix2 = complete_graph(50)\n",
    "transition_matrix3 = complete_graph(75)\n",
    "transition_matrix4 = complete_graph(100)"
   ]
  },
  {
   "cell_type": "code",
   "execution_count": 32,
   "id": "607220c1",
   "metadata": {},
   "outputs": [
    {
     "data": {
      "text/plain": [
       "91.675"
      ]
     },
     "execution_count": 32,
     "metadata": {},
     "output_type": "execute_result"
    }
   ],
   "source": [
    "expected_cover_time1 = Exp_cover_time(transition_matrix1,1,1000)\n",
    "expected_cover_time1"
   ]
  },
  {
   "cell_type": "code",
   "execution_count": 33,
   "id": "165854a7",
   "metadata": {},
   "outputs": [
    {
     "data": {
      "text/plain": [
       "221.051"
      ]
     },
     "execution_count": 33,
     "metadata": {},
     "output_type": "execute_result"
    }
   ],
   "source": [
    "expected_cover_time2 = Exp_cover_time(transition_matrix2,1,1000)\n",
    "expected_cover_time2"
   ]
  },
  {
   "cell_type": "code",
   "execution_count": 34,
   "id": "30ac8ca1",
   "metadata": {},
   "outputs": [
    {
     "data": {
      "text/plain": [
       "359.694"
      ]
     },
     "execution_count": 34,
     "metadata": {},
     "output_type": "execute_result"
    }
   ],
   "source": [
    "expected_cover_time3 = Exp_cover_time(transition_matrix3,1,1000)\n",
    "expected_cover_time3"
   ]
  },
  {
   "cell_type": "code",
   "execution_count": 39,
   "id": "9e03e2d7",
   "metadata": {},
   "outputs": [
    {
     "data": {
      "text/plain": [
       "514.389"
      ]
     },
     "execution_count": 39,
     "metadata": {},
     "output_type": "execute_result"
    }
   ],
   "source": [
    "expected_cover_time4 = Exp_cover_time(transition_matrix4,1,1000)\n",
    "expected_cover_time4"
   ]
  },
  {
   "cell_type": "markdown",
   "id": "f509fbca",
   "metadata": {},
   "source": [
    "### Observation\n",
    "* The expected cover time increases as the number of vertices increases"
   ]
  },
  {
   "cell_type": "markdown",
   "id": "ac13edbe",
   "metadata": {},
   "source": [
    "#### 2)  Consider G1 a complete graph on n vertices and G2 a graph obtained by joining two complete graphs on n/2 vertices each by             a single cross-edge. For every n ∈ {2, 4, . . . , 20} (even numbers less than or equal to 20), compare the expected cover times on             G1 and G2."
   ]
  },
  {
   "cell_type": "code",
   "execution_count": 36,
   "id": "efd60bec",
   "metadata": {},
   "outputs": [
    {
     "name": "stdout",
     "output_type": "stream",
     "text": [
      "expected cover time of complete graph for 2 vertices is = 2 \n",
      "expected cover time of joined graph for 2 vertices is = 2\n",
      "\n",
      "\n",
      "expected cover time of complete graph for 4 vertices is = 6 \n",
      "expected cover time of joined graph for 4 vertices is = 9\n",
      "\n",
      "\n",
      "expected cover time of complete graph for 6 vertices is = 12 \n",
      "expected cover time of joined graph for 6 vertices is = 21\n",
      "\n",
      "\n",
      "expected cover time of complete graph for 8 vertices is = 19 \n",
      "expected cover time of joined graph for 8 vertices is = 38\n",
      "\n",
      "\n",
      "expected cover time of complete graph for 10 vertices is = 26 \n",
      "expected cover time of joined graph for 10 vertices is = 55\n",
      "\n",
      "\n",
      "expected cover time of complete graph for 12 vertices is = 34 \n",
      "expected cover time of joined graph for 12 vertices is = 76\n",
      "\n",
      "\n",
      "expected cover time of complete graph for 14 vertices is = 42 \n",
      "expected cover time of joined graph for 14 vertices is = 100\n",
      "\n",
      "\n",
      "expected cover time of complete graph for 16 vertices is = 50 \n",
      "expected cover time of joined graph for 16 vertices is = 127\n",
      "\n",
      "\n",
      "expected cover time of complete graph for 18 vertices is = 58 \n",
      "expected cover time of joined graph for 18 vertices is = 149\n",
      "\n",
      "\n",
      "expected cover time of complete graph for 20 vertices is = 68 \n",
      "expected cover time of joined graph for 20 vertices is = 181\n",
      "\n",
      "\n"
     ]
    }
   ],
   "source": [
    "G1_ect = []\n",
    "G2_ect = []\n",
    "vertices = []\n",
    "for i in range(2,21,2):\n",
    "    vertices.append(i)\n",
    "    G1 = complete_graph(i)\n",
    "    expected_cover_timeG1 = Exp_cover_time(G1,1,1000)\n",
    "    G1_ect.append(expected_cover_timeG1)\n",
    "    \n",
    "    G2 = joined_graphs(i)\n",
    "    expected_cover_timeG2 = Exp_cover_time(G2,1,1000)\n",
    "    G2_ect.append(expected_cover_timeG2)\n",
    "    \n",
    "    print('expected cover time of complete graph for %d vertices is = %d ' %(i,expected_cover_timeG1))\n",
    "    print('expected cover time of joined graph for %d vertices is = %d' %(i,expected_cover_timeG2))\n",
    "    print('\\n')\n",
    "    "
   ]
  },
  {
   "cell_type": "markdown",
   "id": "9b3ce57c",
   "metadata": {},
   "source": [
    "### Observation\n",
    "* The expected cover time of the joined graphs increases substantially comaparing to the complete graph"
   ]
  },
  {
   "cell_type": "code",
   "execution_count": 38,
   "id": "d2fae195",
   "metadata": {},
   "outputs": [
    {
     "data": {
      "image/png": "[encoded data removed]",
      "text/plain": [
       "<Figure size 432x288 with 1 Axes>"
      ]
     },
     "metadata": {
      "needs_background": "light"
     },
     "output_type": "display_data"
    }
   ],
   "source": [
    "import matplotlib.pyplot as plt\n",
    "plt.plot(vertices,G1_ect,label = \"complete gragh\")\n",
    "plt.plot(vertices,G2_ect,label = \"joined graph\")\n",
    "plt.xlabel('number of vertices')\n",
    "plt.ylabel('expected cover time')\n",
    "plt.legend()\n",
    "plt.show()"
   ]
  }
 ],
 "metadata": {
  "kernelspec": {
   "display_name": "Python 3",
   "language": "python",
   "name": "python3"
  },
  "language_info": {
   "codemirror_mode": {
    "name": "ipython",
    "version": 3
   },
   "file_extension": ".py",
   "mimetype": "text/x-python",
   "name": "python",
   "nbconvert_exporter": "python",
   "pygments_lexer": "ipython3",
   "version": "3.8.8"
  }
 },
 "nbformat": 4,
 "nbformat_minor": 5
}
